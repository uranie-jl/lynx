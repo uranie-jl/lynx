{
 "cells": [
  {
   "cell_type": "markdown",
   "metadata": {},
   "source": [
    "# How captive lynxes react to new features adding in their environment"
   ]
  },
  {
   "cell_type": "markdown",
   "metadata": {},
   "source": [
    "<p><img style=\"float: left; margin:5px 20px 5px 1px; width:30%\" src=\"https://france3-regions.francetvinfo.fr/bourgogne-franche-comte/sites/regions_france3/files/styles/top_big/public/assets/images/2020/01/23/maxnewsfrfour314281-4615703.jpg?itok=Jn2T3ivC\"></p>\n",
    "<p>Captive environment can offer limited space lacking a lot of the environmental stimuli that can be found in the wild. To stimulate and improve lynx specific behaviour environmental enrichment is used. It can be defined as changes in an animal’s captive environment by providing environmental features.<p>\n",
    "In this case, olfactory enrichment which involves the introduction of scent was used.\n",
    "\n",
    "In this notebook, we are going to analyse the possible effect of olfactory enrichment on three adult lynxes.\n",
    "    \n",
    "*Picture taken by © Philippe Clément*"
   ]
  },
  {
   "cell_type": "markdown",
   "metadata": {},
   "source": [
    "## 1. Behavioural observation\n",
    "\n",
    "The data were collected during 36 days with each scent presented 9 times. One scent was applied every morning, and it was replaced with another scent or control after 24 hours. Behavioural observation were made 4 hours per day (including morning and afternoon)."
   ]
  },
  {
   "cell_type": "code",
   "execution_count": 5,
   "metadata": {},
   "outputs": [],
   "source": [
    "library(readxl)\n",
    "library(dplyr)\n",
    "library(ggplot2)\n",
    "library(tidyverse)"
   ]
  },
  {
   "cell_type": "markdown",
   "metadata": {},
   "source": [
    "## 2. \"The scent station\"\n",
    "\n",
    "The lynxes were exposed to 4 odours treatments applied on a branch attached to a tree at a place called the \"scent station\" inside the enclosure :\n",
    "- Valerian\n",
    "- Catnip \n",
    "- Cinnamon \n",
    "- Control (water)\n",
    "\n",
    "Let's start by looking at the data."
   ]
  },
  {
   "cell_type": "code",
   "execution_count": 6,
   "metadata": {},
   "outputs": [
    {
     "name": "stderr",
     "output_type": "stream",
     "text": [
      "Parsed with column specification:\n",
      "cols(\n",
      "  Lynx = col_character(),\n",
      "  Scent = col_character(),\n",
      "  Behavior = col_character(),\n",
      "  Day = col_double(),\n",
      "  Occurence = col_double()\n",
      ")\n",
      "Selecting by Occurence\n"
     ]
    },
    {
     "data": {
      "text/html": [
       "<table>\n",
       "<thead><tr><th scope=col>Lynx</th><th scope=col>Scent</th><th scope=col>Behavior</th><th scope=col>Day</th><th scope=col>Occurence</th></tr></thead>\n",
       "<tbody>\n",
       "\t<tr><td>Loger        </td><td>Catnip       </td><td>Rubbing      </td><td>8            </td><td>48           </td></tr>\n",
       "\t<tr><td>Loger        </td><td>Catnip       </td><td>Rubbing      </td><td>7            </td><td>25           </td></tr>\n",
       "\t<tr><td>Loger        </td><td>Catnip       </td><td>Rubbing      </td><td>6            </td><td>18           </td></tr>\n",
       "\t<tr><td>Loger        </td><td>Catnip       </td><td>Sniffing     </td><td>7            </td><td>17           </td></tr>\n",
       "\t<tr><td>Loger        </td><td>Catnip       </td><td>Biting       </td><td>6            </td><td>11           </td></tr>\n",
       "\t<tr><td>Loger        </td><td>Catnip       </td><td>Sniffing     </td><td>6            </td><td> 8           </td></tr>\n",
       "\t<tr><td>Lovika       </td><td>Cinamon      </td><td>Scent marking</td><td>8            </td><td> 8           </td></tr>\n",
       "\t<tr><td>Loger        </td><td>Catnip       </td><td>Licking      </td><td>6            </td><td> 6           </td></tr>\n",
       "\t<tr><td>Loger        </td><td>Catnip       </td><td>Sniffing     </td><td>7            </td><td> 6           </td></tr>\n",
       "\t<tr><td>Loger        </td><td>Catnip       </td><td>Licking      </td><td>7            </td><td> 6           </td></tr>\n",
       "\t<tr><td>Loger        </td><td>Catnip       </td><td>Biting       </td><td>7            </td><td> 6           </td></tr>\n",
       "\t<tr><td>Lovika       </td><td>Control      </td><td>Scent marking</td><td>7            </td><td> 6           </td></tr>\n",
       "\t<tr><td>Loger        </td><td>Catnip       </td><td>Sniffing     </td><td>8            </td><td> 5           </td></tr>\n",
       "\t<tr><td>Lovika       </td><td>Valerian     </td><td>Sniffing     </td><td>4            </td><td> 5           </td></tr>\n",
       "\t<tr><td>Lovika       </td><td>Valerian     </td><td>Scent marking</td><td>9            </td><td> 5           </td></tr>\n",
       "\t<tr><td>Lovika       </td><td>Catnip       </td><td>Sniffing     </td><td>5            </td><td> 5           </td></tr>\n",
       "</tbody>\n",
       "</table>\n"
      ],
      "text/latex": [
       "\\begin{tabular}{r|lllll}\n",
       " Lynx & Scent & Behavior & Day & Occurence\\\\\n",
       "\\hline\n",
       "\t Loger         & Catnip        & Rubbing       & 8             & 48           \\\\\n",
       "\t Loger         & Catnip        & Rubbing       & 7             & 25           \\\\\n",
       "\t Loger         & Catnip        & Rubbing       & 6             & 18           \\\\\n",
       "\t Loger         & Catnip        & Sniffing      & 7             & 17           \\\\\n",
       "\t Loger         & Catnip        & Biting        & 6             & 11           \\\\\n",
       "\t Loger         & Catnip        & Sniffing      & 6             &  8           \\\\\n",
       "\t Lovika        & Cinamon       & Scent marking & 8             &  8           \\\\\n",
       "\t Loger         & Catnip        & Licking       & 6             &  6           \\\\\n",
       "\t Loger         & Catnip        & Sniffing      & 7             &  6           \\\\\n",
       "\t Loger         & Catnip        & Licking       & 7             &  6           \\\\\n",
       "\t Loger         & Catnip        & Biting        & 7             &  6           \\\\\n",
       "\t Lovika        & Control       & Scent marking & 7             &  6           \\\\\n",
       "\t Loger         & Catnip        & Sniffing      & 8             &  5           \\\\\n",
       "\t Lovika        & Valerian      & Sniffing      & 4             &  5           \\\\\n",
       "\t Lovika        & Valerian      & Scent marking & 9             &  5           \\\\\n",
       "\t Lovika        & Catnip        & Sniffing      & 5             &  5           \\\\\n",
       "\\end{tabular}\n"
      ],
      "text/markdown": [
       "\n",
       "| Lynx | Scent | Behavior | Day | Occurence |\n",
       "|---|---|---|---|---|\n",
       "| Loger         | Catnip        | Rubbing       | 8             | 48            |\n",
       "| Loger         | Catnip        | Rubbing       | 7             | 25            |\n",
       "| Loger         | Catnip        | Rubbing       | 6             | 18            |\n",
       "| Loger         | Catnip        | Sniffing      | 7             | 17            |\n",
       "| Loger         | Catnip        | Biting        | 6             | 11            |\n",
       "| Loger         | Catnip        | Sniffing      | 6             |  8            |\n",
       "| Lovika        | Cinamon       | Scent marking | 8             |  8            |\n",
       "| Loger         | Catnip        | Licking       | 6             |  6            |\n",
       "| Loger         | Catnip        | Sniffing      | 7             |  6            |\n",
       "| Loger         | Catnip        | Licking       | 7             |  6            |\n",
       "| Loger         | Catnip        | Biting        | 7             |  6            |\n",
       "| Lovika        | Control       | Scent marking | 7             |  6            |\n",
       "| Loger         | Catnip        | Sniffing      | 8             |  5            |\n",
       "| Lovika        | Valerian      | Sniffing      | 4             |  5            |\n",
       "| Lovika        | Valerian      | Scent marking | 9             |  5            |\n",
       "| Lovika        | Catnip        | Sniffing      | 5             |  5            |\n",
       "\n"
      ],
      "text/plain": [
       "   Lynx   Scent    Behavior      Day Occurence\n",
       "1  Loger  Catnip   Rubbing       8   48       \n",
       "2  Loger  Catnip   Rubbing       7   25       \n",
       "3  Loger  Catnip   Rubbing       6   18       \n",
       "4  Loger  Catnip   Sniffing      7   17       \n",
       "5  Loger  Catnip   Biting        6   11       \n",
       "6  Loger  Catnip   Sniffing      6    8       \n",
       "7  Lovika Cinamon  Scent marking 8    8       \n",
       "8  Loger  Catnip   Licking       6    6       \n",
       "9  Loger  Catnip   Sniffing      7    6       \n",
       "10 Loger  Catnip   Licking       7    6       \n",
       "11 Loger  Catnip   Biting        7    6       \n",
       "12 Lovika Control  Scent marking 7    6       \n",
       "13 Loger  Catnip   Sniffing      8    5       \n",
       "14 Lovika Valerian Sniffing      4    5       \n",
       "15 Lovika Valerian Scent marking 9    5       \n",
       "16 Lovika Catnip   Sniffing      5    5       "
      ]
     },
     "metadata": {},
     "output_type": "display_data"
    }
   ],
   "source": [
    "enrichment <- read_csv(\"enrichment.csv\")\n",
    "\n",
    "enrichment%>%\n",
    "arrange(desc(Occurence))%>%\n",
    "top_n(15)"
   ]
  },
  {
   "cell_type": "markdown",
   "metadata": {},
   "source": [
    "## 3. The surprising number of behavior occured with the catnip\n",
    "\n",
    "The table above shows the number of behavior directed toward the enrichment for each scent for each lynx for each day.\n",
    "You will notice that the lynxes showed more behavior with the catnip treatment.\n",
    "\n",
    "We can see more clearly if we look at the total number of each behavior for each scent of all individuals combined."
   ]
  },
  {
   "cell_type": "code",
   "execution_count": 7,
   "metadata": {
    "scrolled": true
   },
   "outputs": [
    {
     "data": {
      "text/html": [
       "<table>\n",
       "<thead><tr><th scope=col>Behavior</th><th scope=col>Scent</th><th scope=col>Nb_occur</th></tr></thead>\n",
       "<tbody>\n",
       "\t<tr><td>Rubbing      </td><td>Catnip       </td><td>107          </td></tr>\n",
       "\t<tr><td>Sniffing     </td><td>Catnip       </td><td> 71          </td></tr>\n",
       "\t<tr><td>Biting       </td><td>Catnip       </td><td> 24          </td></tr>\n",
       "\t<tr><td>Approach     </td><td>Catnip       </td><td> 18          </td></tr>\n",
       "\t<tr><td>Scent marking</td><td>Catnip       </td><td> 16          </td></tr>\n",
       "\t<tr><td>Licking      </td><td>Catnip       </td><td> 15          </td></tr>\n",
       "\t<tr><td>Scratching   </td><td>Catnip       </td><td>  4          </td></tr>\n",
       "\t<tr><td>Sniffing     </td><td>Cinnamon     </td><td> 26          </td></tr>\n",
       "\t<tr><td>Scent marking</td><td>Cinnamon     </td><td> 23          </td></tr>\n",
       "\t<tr><td>Approach     </td><td>Cinnamon     </td><td> 11          </td></tr>\n",
       "\t<tr><td>Rubbing      </td><td>Cinnamon     </td><td> 11          </td></tr>\n",
       "\t<tr><td>Scratching   </td><td>Cinnamon     </td><td>  1          </td></tr>\n",
       "\t<tr><td>Biting       </td><td>Cinnamon     </td><td>  0          </td></tr>\n",
       "\t<tr><td>Licking      </td><td>Cinnamon     </td><td>  0          </td></tr>\n",
       "\t<tr><td>Scent marking</td><td>Control      </td><td> 23          </td></tr>\n",
       "\t<tr><td>Sniffing     </td><td>Control      </td><td> 19          </td></tr>\n",
       "\t<tr><td>Approach     </td><td>Control      </td><td> 17          </td></tr>\n",
       "\t<tr><td>Rubbing      </td><td>Control      </td><td>  1          </td></tr>\n",
       "\t<tr><td>Biting       </td><td>Control      </td><td>  0          </td></tr>\n",
       "\t<tr><td>Licking      </td><td>Control      </td><td>  0          </td></tr>\n",
       "\t<tr><td>Scratching   </td><td>Control      </td><td>  0          </td></tr>\n",
       "\t<tr><td>Scent marking</td><td>Valerian     </td><td> 29          </td></tr>\n",
       "\t<tr><td>Sniffing     </td><td>Valerian     </td><td> 27          </td></tr>\n",
       "\t<tr><td>Approach     </td><td>Valerian     </td><td> 16          </td></tr>\n",
       "\t<tr><td>Rubbing      </td><td>Valerian     </td><td>  5          </td></tr>\n",
       "\t<tr><td>Biting       </td><td>Valerian     </td><td>  0          </td></tr>\n",
       "\t<tr><td>Licking      </td><td>Valerian     </td><td>  0          </td></tr>\n",
       "\t<tr><td>Scratching   </td><td>Valerian     </td><td>  0          </td></tr>\n",
       "</tbody>\n",
       "</table>\n"
      ],
      "text/latex": [
       "\\begin{tabular}{r|lll}\n",
       " Behavior & Scent & Nb\\_occur\\\\\n",
       "\\hline\n",
       "\t Rubbing       & Catnip        & 107          \\\\\n",
       "\t Sniffing      & Catnip        &  71          \\\\\n",
       "\t Biting        & Catnip        &  24          \\\\\n",
       "\t Approach      & Catnip        &  18          \\\\\n",
       "\t Scent marking & Catnip        &  16          \\\\\n",
       "\t Licking       & Catnip        &  15          \\\\\n",
       "\t Scratching    & Catnip        &   4          \\\\\n",
       "\t Sniffing      & Cinnamon      &  26          \\\\\n",
       "\t Scent marking & Cinnamon      &  23          \\\\\n",
       "\t Approach      & Cinnamon      &  11          \\\\\n",
       "\t Rubbing       & Cinnamon      &  11          \\\\\n",
       "\t Scratching    & Cinnamon      &   1          \\\\\n",
       "\t Biting        & Cinnamon      &   0          \\\\\n",
       "\t Licking       & Cinnamon      &   0          \\\\\n",
       "\t Scent marking & Control       &  23          \\\\\n",
       "\t Sniffing      & Control       &  19          \\\\\n",
       "\t Approach      & Control       &  17          \\\\\n",
       "\t Rubbing       & Control       &   1          \\\\\n",
       "\t Biting        & Control       &   0          \\\\\n",
       "\t Licking       & Control       &   0          \\\\\n",
       "\t Scratching    & Control       &   0          \\\\\n",
       "\t Scent marking & Valerian      &  29          \\\\\n",
       "\t Sniffing      & Valerian      &  27          \\\\\n",
       "\t Approach      & Valerian      &  16          \\\\\n",
       "\t Rubbing       & Valerian      &   5          \\\\\n",
       "\t Biting        & Valerian      &   0          \\\\\n",
       "\t Licking       & Valerian      &   0          \\\\\n",
       "\t Scratching    & Valerian      &   0          \\\\\n",
       "\\end{tabular}\n"
      ],
      "text/markdown": [
       "\n",
       "| Behavior | Scent | Nb_occur |\n",
       "|---|---|---|\n",
       "| Rubbing       | Catnip        | 107           |\n",
       "| Sniffing      | Catnip        |  71           |\n",
       "| Biting        | Catnip        |  24           |\n",
       "| Approach      | Catnip        |  18           |\n",
       "| Scent marking | Catnip        |  16           |\n",
       "| Licking       | Catnip        |  15           |\n",
       "| Scratching    | Catnip        |   4           |\n",
       "| Sniffing      | Cinnamon      |  26           |\n",
       "| Scent marking | Cinnamon      |  23           |\n",
       "| Approach      | Cinnamon      |  11           |\n",
       "| Rubbing       | Cinnamon      |  11           |\n",
       "| Scratching    | Cinnamon      |   1           |\n",
       "| Biting        | Cinnamon      |   0           |\n",
       "| Licking       | Cinnamon      |   0           |\n",
       "| Scent marking | Control       |  23           |\n",
       "| Sniffing      | Control       |  19           |\n",
       "| Approach      | Control       |  17           |\n",
       "| Rubbing       | Control       |   1           |\n",
       "| Biting        | Control       |   0           |\n",
       "| Licking       | Control       |   0           |\n",
       "| Scratching    | Control       |   0           |\n",
       "| Scent marking | Valerian      |  29           |\n",
       "| Sniffing      | Valerian      |  27           |\n",
       "| Approach      | Valerian      |  16           |\n",
       "| Rubbing       | Valerian      |   5           |\n",
       "| Biting        | Valerian      |   0           |\n",
       "| Licking       | Valerian      |   0           |\n",
       "| Scratching    | Valerian      |   0           |\n",
       "\n"
      ],
      "text/plain": [
       "   Behavior      Scent    Nb_occur\n",
       "1  Rubbing       Catnip   107     \n",
       "2  Sniffing      Catnip    71     \n",
       "3  Biting        Catnip    24     \n",
       "4  Approach      Catnip    18     \n",
       "5  Scent marking Catnip    16     \n",
       "6  Licking       Catnip    15     \n",
       "7  Scratching    Catnip     4     \n",
       "8  Sniffing      Cinnamon  26     \n",
       "9  Scent marking Cinnamon  23     \n",
       "10 Approach      Cinnamon  11     \n",
       "11 Rubbing       Cinnamon  11     \n",
       "12 Scratching    Cinnamon   1     \n",
       "13 Biting        Cinnamon   0     \n",
       "14 Licking       Cinnamon   0     \n",
       "15 Scent marking Control   23     \n",
       "16 Sniffing      Control   19     \n",
       "17 Approach      Control   17     \n",
       "18 Rubbing       Control    1     \n",
       "19 Biting        Control    0     \n",
       "20 Licking       Control    0     \n",
       "21 Scratching    Control    0     \n",
       "22 Scent marking Valerian  29     \n",
       "23 Sniffing      Valerian  27     \n",
       "24 Approach      Valerian  16     \n",
       "25 Rubbing       Valerian   5     \n",
       "26 Biting        Valerian   0     \n",
       "27 Licking       Valerian   0     \n",
       "28 Scratching    Valerian   0     "
      ]
     },
     "metadata": {},
     "output_type": "display_data"
    }
   ],
   "source": [
    "scent_lynx <- enrichment%>%\n",
    "mutate(Scent = str_replace(Scent, \"Cinamon\", \"Cinnamon\"))%>%\n",
    "group_by(Behavior, Scent)%>%\n",
    "summarize(Nb_occur = sum(Occurence))%>%\n",
    "arrange(Scent, desc(Nb_occur))\n",
    "\n",
    "scent_lynx"
   ]
  },
  {
   "cell_type": "markdown",
   "metadata": {},
   "source": [
    "## 4. The effect of catnip\n",
    "\n",
    "Let's plot to see the effect of catnip.\n",
    "\n",
    "The catnip treatment induce a higher number of biting, licking, rubbing, and sniffing than the control, cinnamon and valerian treatments.\n",
    "The lynxes interacted more with the catnip treatment compared to the other two treatments and control."
   ]
  },
  {
   "cell_type": "code",
   "execution_count": 8,
   "metadata": {},
   "outputs": [
    {
     "name": "stderr",
     "output_type": "stream",
     "text": [
      "Warning message:\n",
      "\"package 'viridis' was built under R version 3.6.3\"Loading required package: viridisLite\n"
     ]
    },
    {
     "data": {
      "image/png": "[encoded data removed]",
      "text/plain": [
       "plot without title"
      ]
     },
     "metadata": {},
     "output_type": "display_data"
    }
   ],
   "source": [
    "library(viridis)\n",
    "\n",
    "labels <- c(\"Approach\" = \"Approach\",\n",
    "            \"Biting\" = \"Biting\",\n",
    "            \"Licking\" = \"Licking\",\n",
    "            \"Rubbing\" = \"Rubbing\",\n",
    "            \"Scent marking\" = \"Scent\\nmarking\",\n",
    "            \"Scratching\" = \"Scratching\",\n",
    "            \"Sniffing\" = \"Sniffing\")\n",
    "\n",
    "\n",
    "scent_lynx%>%\n",
    "  mutate(Scent = factor(Scent, levels = c(\"Catnip\", \"Cinnamon\", \"Valerian\", \"Control\")))%>%\n",
    "  ggplot(aes(x= factor(Scent), y=Nb_occur, fill=Scent))+\n",
    "  geom_bar(stat = \"identity\") +\n",
    "  theme(axis.text.x = element_blank()) +\n",
    "  xlab(\"\")+\n",
    "  ylab(\"Number of behaviours\")+\n",
    "  scale_x_discrete(breaks=NULL)+\n",
    "  scale_fill_viridis(discrete = TRUE)+\n",
    "  facet_grid(~Behavior, labeller=labeller(Behavior = labels))+\n",
    "  theme_minimal()"
   ]
  },
  {
   "cell_type": "markdown",
   "metadata": {},
   "source": [
    "## 5. Eagle eye\n",
    "\n",
    "Lynxes are nocturnals animals. So, around what time they were interacted the most with the enrichment ?\n",
    "\n",
    "The scents were placed every morning at 8.30. Visual observation between 9-11AM and 8-10PM.\n",
    "The human eye was not enough to observe under 24 hours. That's why monitoring technologies were used to help.\n",
    "\n",
    "- **HDX pit tag**\n",
    "\n",
    "Part of the scent station and a rectangular antenna fixed to a fur tree. It was designed to detect  23mm long pit tags injected subcutaneously between the lynx should blades. This antenna was used to monitor the visits at the scent station.\n",
    "\n",
    "\n",
    "- **Bluetooth Low Energy (BLE)**\n",
    "\n",
    "Transmitters attached to a collar; the BLE signal was detected by smartphones placed on a box attached to the same tree as the HDX pit antenna. The signal strength can be used as a proxy for distance it is possible to gauge the distance between the animal and the smartphone. Similarly, it was used monitor the visits at the scent station.\n",
    "\n",
    "Let's take a look at the data."
   ]
  },
  {
   "cell_type": "code",
   "execution_count": 9,
   "metadata": {},
   "outputs": [
    {
     "name": "stderr",
     "output_type": "stream",
     "text": [
      "Selecting by Nb_visit\n"
     ]
    },
    {
     "data": {
      "text/html": [
       "<table>\n",
       "<thead><tr><th scope=col>Date</th><th scope=col>Hour</th><th scope=col>Tech</th><th scope=col>Nb_visit</th></tr></thead>\n",
       "<tbody>\n",
       "\t<tr><td>2018-07-24        </td><td> 2                </td><td>HDX PIT tag       </td><td>6                 </td></tr>\n",
       "\t<tr><td>2018-07-24        </td><td> 2                </td><td>BLE tag           </td><td>4                 </td></tr>\n",
       "\t<tr><td>2018-07-10        </td><td> 9                </td><td>Visual Observation</td><td>3                 </td></tr>\n",
       "\t<tr><td>2018-07-17        </td><td>22                </td><td>Visual Observation</td><td>3                 </td></tr>\n",
       "\t<tr><td>2018-07-24        </td><td> 8                </td><td>HDX PIT tag       </td><td>3                 </td></tr>\n",
       "\t<tr><td>2018-07-28        </td><td>23                </td><td>HDX PIT tag       </td><td>3                 </td></tr>\n",
       "\t<tr><td>2018-07-06        </td><td> 9                </td><td>HDX PIT tag       </td><td>2                 </td></tr>\n",
       "\t<tr><td>2018-07-06        </td><td> 9                </td><td>Visual Observation</td><td>2                 </td></tr>\n",
       "\t<tr><td>2018-07-08        </td><td> 8                </td><td>Visual Observation</td><td>2                 </td></tr>\n",
       "\t<tr><td>2018-07-11        </td><td>22                </td><td>Visual Observation</td><td>2                 </td></tr>\n",
       "\t<tr><td>2018-07-14        </td><td> 9                </td><td>Visual Observation</td><td>2                 </td></tr>\n",
       "\t<tr><td>2018-07-17        </td><td> 9                </td><td>Visual Observation</td><td>2                 </td></tr>\n",
       "\t<tr><td>2018-07-18        </td><td>19                </td><td>HDX PIT tag       </td><td>2                 </td></tr>\n",
       "\t<tr><td>2018-07-20        </td><td> 0                </td><td>BLE tag           </td><td>2                 </td></tr>\n",
       "\t<tr><td>2018-07-20        </td><td> 2                </td><td>BLE tag           </td><td>2                 </td></tr>\n",
       "\t<tr><td>2018-07-22        </td><td> 8                </td><td>Visual Observation</td><td>2                 </td></tr>\n",
       "\t<tr><td>2018-07-25        </td><td> 9                </td><td>Visual Observation</td><td>2                 </td></tr>\n",
       "\t<tr><td>2018-07-26        </td><td>22                </td><td>Visual Observation</td><td>2                 </td></tr>\n",
       "\t<tr><td>2018-07-28        </td><td>22                </td><td>Visual Observation</td><td>2                 </td></tr>\n",
       "\t<tr><td>2018-08-18        </td><td>19                </td><td>HDX PIT tag       </td><td>2                 </td></tr>\n",
       "</tbody>\n",
       "</table>\n"
      ],
      "text/latex": [
       "\\begin{tabular}{r|llll}\n",
       " Date & Hour & Tech & Nb\\_visit\\\\\n",
       "\\hline\n",
       "\t 2018-07-24         &  2                 & HDX PIT tag        & 6                 \\\\\n",
       "\t 2018-07-24         &  2                 & BLE tag            & 4                 \\\\\n",
       "\t 2018-07-10         &  9                 & Visual Observation & 3                 \\\\\n",
       "\t 2018-07-17         & 22                 & Visual Observation & 3                 \\\\\n",
       "\t 2018-07-24         &  8                 & HDX PIT tag        & 3                 \\\\\n",
       "\t 2018-07-28         & 23                 & HDX PIT tag        & 3                 \\\\\n",
       "\t 2018-07-06         &  9                 & HDX PIT tag        & 2                 \\\\\n",
       "\t 2018-07-06         &  9                 & Visual Observation & 2                 \\\\\n",
       "\t 2018-07-08         &  8                 & Visual Observation & 2                 \\\\\n",
       "\t 2018-07-11         & 22                 & Visual Observation & 2                 \\\\\n",
       "\t 2018-07-14         &  9                 & Visual Observation & 2                 \\\\\n",
       "\t 2018-07-17         &  9                 & Visual Observation & 2                 \\\\\n",
       "\t 2018-07-18         & 19                 & HDX PIT tag        & 2                 \\\\\n",
       "\t 2018-07-20         &  0                 & BLE tag            & 2                 \\\\\n",
       "\t 2018-07-20         &  2                 & BLE tag            & 2                 \\\\\n",
       "\t 2018-07-22         &  8                 & Visual Observation & 2                 \\\\\n",
       "\t 2018-07-25         &  9                 & Visual Observation & 2                 \\\\\n",
       "\t 2018-07-26         & 22                 & Visual Observation & 2                 \\\\\n",
       "\t 2018-07-28         & 22                 & Visual Observation & 2                 \\\\\n",
       "\t 2018-08-18         & 19                 & HDX PIT tag        & 2                 \\\\\n",
       "\\end{tabular}\n"
      ],
      "text/markdown": [
       "\n",
       "| Date | Hour | Tech | Nb_visit |\n",
       "|---|---|---|---|\n",
       "| 2018-07-24         |  2                 | HDX PIT tag        | 6                  |\n",
       "| 2018-07-24         |  2                 | BLE tag            | 4                  |\n",
       "| 2018-07-10         |  9                 | Visual Observation | 3                  |\n",
       "| 2018-07-17         | 22                 | Visual Observation | 3                  |\n",
       "| 2018-07-24         |  8                 | HDX PIT tag        | 3                  |\n",
       "| 2018-07-28         | 23                 | HDX PIT tag        | 3                  |\n",
       "| 2018-07-06         |  9                 | HDX PIT tag        | 2                  |\n",
       "| 2018-07-06         |  9                 | Visual Observation | 2                  |\n",
       "| 2018-07-08         |  8                 | Visual Observation | 2                  |\n",
       "| 2018-07-11         | 22                 | Visual Observation | 2                  |\n",
       "| 2018-07-14         |  9                 | Visual Observation | 2                  |\n",
       "| 2018-07-17         |  9                 | Visual Observation | 2                  |\n",
       "| 2018-07-18         | 19                 | HDX PIT tag        | 2                  |\n",
       "| 2018-07-20         |  0                 | BLE tag            | 2                  |\n",
       "| 2018-07-20         |  2                 | BLE tag            | 2                  |\n",
       "| 2018-07-22         |  8                 | Visual Observation | 2                  |\n",
       "| 2018-07-25         |  9                 | Visual Observation | 2                  |\n",
       "| 2018-07-26         | 22                 | Visual Observation | 2                  |\n",
       "| 2018-07-28         | 22                 | Visual Observation | 2                  |\n",
       "| 2018-08-18         | 19                 | HDX PIT tag        | 2                  |\n",
       "\n"
      ],
      "text/plain": [
       "   Date       Hour Tech               Nb_visit\n",
       "1  2018-07-24  2   HDX PIT tag        6       \n",
       "2  2018-07-24  2   BLE tag            4       \n",
       "3  2018-07-10  9   Visual Observation 3       \n",
       "4  2018-07-17 22   Visual Observation 3       \n",
       "5  2018-07-24  8   HDX PIT tag        3       \n",
       "6  2018-07-28 23   HDX PIT tag        3       \n",
       "7  2018-07-06  9   HDX PIT tag        2       \n",
       "8  2018-07-06  9   Visual Observation 2       \n",
       "9  2018-07-08  8   Visual Observation 2       \n",
       "10 2018-07-11 22   Visual Observation 2       \n",
       "11 2018-07-14  9   Visual Observation 2       \n",
       "12 2018-07-17  9   Visual Observation 2       \n",
       "13 2018-07-18 19   HDX PIT tag        2       \n",
       "14 2018-07-20  0   BLE tag            2       \n",
       "15 2018-07-20  2   BLE tag            2       \n",
       "16 2018-07-22  8   Visual Observation 2       \n",
       "17 2018-07-25  9   Visual Observation 2       \n",
       "18 2018-07-26 22   Visual Observation 2       \n",
       "19 2018-07-28 22   Visual Observation 2       \n",
       "20 2018-08-18 19   HDX PIT tag        2       "
      ]
     },
     "metadata": {},
     "output_type": "display_data"
    }
   ],
   "source": [
    "ggtech <- read_excel(\"ggtech.xlsx\", col_types = c(\"date\", \n",
    "    \"numeric\", \"text\", \"numeric\"))%>%\n",
    "rename(\"Nb_visit\" = \"Count\")\n",
    "\n",
    "ggtech%>%\n",
    "arrange(desc(Nb_visit))%>%\n",
    "top_n(20)\n",
    "\n"
   ]
  },
  {
   "cell_type": "markdown",
   "metadata": {},
   "source": [
    "## 6. Temporality\n",
    "\n",
    "The lynxes tend to visit the scent station in the morning around 8-9 AM and during the night 10.00 PM which corresponds of the time observed during visual observation... \n",
    "\n",
    "Let's visualize the data on a clock to have a clearer view !"
   ]
  },
  {
   "cell_type": "code",
   "execution_count": 10,
   "metadata": {},
   "outputs": [
    {
     "name": "stderr",
     "output_type": "stream",
     "text": [
      "Warning message:\n",
      "\"Removed 2 rows containing missing values (geom_col).\""
     ]
    },
    {
     "data": {
      "image/png": "[encoded data removed]",
      "text/plain": [
       "plot without title"
      ]
     },
     "metadata": {},
     "output_type": "display_data"
    }
   ],
   "source": [
    "ggtech_hour <- ggtech%>%\n",
    "  group_by(Hour, Tech)%>%\n",
    "  filter(!Tech == \"Visual Observation\")%>%\n",
    "  summarize(Nb_visit = sum(Nb_visit))\n",
    "\n",
    "ggplot(ggtech_hour, aes(x= Hour, y = Nb_visit))+\n",
    "  geom_col (color = \"#33638DFF\", fill = \"#95D840FF\")+\n",
    "  coord_polar(start = 0) + \n",
    "  ylab(\"Number of visits\")+\n",
    "  #scale_y_continuous(breaks = NULL)+\n",
    "  theme_minimal() + \n",
    "  theme(legend.position=\"none\")+\n",
    "  scale_x_continuous(\"Hour\", limits = c(0, 24), \n",
    "                     breaks = seq(0, 24), \n",
    "                     labels = seq(0, 24))+\n",
    "facet_grid(~ Tech)"
   ]
  },
  {
   "cell_type": "markdown",
   "metadata": {},
   "source": [
    "## 7. Technology vs Human\n",
    "\n",
    "With the tech the lynxes visited the enrichment around the clock but with a peak at 8-9AM and another peak at 2 AM which was not possible to see with the visual observation.\n",
    "\n",
    "\n",
    "**How about comparing the technologies and visual observation on the timing of visit ?**\n",
    "\n",
    "\n",
    "The graph below shows that the HDX PIT tag and BLE tag systems overlapped only three days of matching data where 6 occasions were logged by both systems (July 23-24). The BLE tags were logged alone 29 times in another 15 days, and the HDX PIT tags were logged alone on 27 times in 12 days.\n",
    "\n",
    "**41 visits logged by visual observations failed to be logged by any of the automated systems**  \n",
    "\n",
    "*Unfortunately, due to a technical malfunction, the HDX PIT tag data was collected during only between July 5 and 28 and the BLE tag only between July 25 to August 4. That could explain why they failed to log some visits.*"
   ]
  },
  {
   "cell_type": "code",
   "execution_count": 11,
   "metadata": {},
   "outputs": [
    {
     "data": {
      "image/png": "[encoded data removed]",
      "text/plain": [
       "plot without title"
      ]
     },
     "metadata": {},
     "output_type": "display_data"
    }
   ],
   "source": [
    "ggplot(ggtech, aes(x = Date, y = Hour, colour = Tech, shape = Tech,\n",
    "                   size = Tech))+\n",
    "  geom_point(stroke = 2)+\n",
    "  scale_x_datetime(date_breaks = \"1 week\", date_labels = \"%b %d\")+\n",
    "  scale_y_continuous(breaks = seq(0, 23, 1),\n",
    "                     limits = c(0, 23))+\n",
    "  scale_colour_manual(values = c(\"#440154FF\", \"#21908CFF\", \"#FDE725FF\"),\n",
    "                      labels = c(\"BLE tag\", \"HDX PIT tag\",\n",
    "                                 \"Visual Observation\"), \n",
    "                      name = \"Monitoring\\ntechnology\")+\n",
    "  scale_shape_manual(values=c(1,20, 5),\n",
    "                     name = \"Monitoring\\ntechnology\")+\n",
    "  scale_size_manual(values=c(2.5,1, 2.5),\n",
    "                    name = \"Monitoring\\ntechnology\")+\n",
    "  ylab(\"Hour\")+\n",
    "  theme_classic()"
   ]
  },
  {
   "cell_type": "markdown",
   "metadata": {},
   "source": [
    "## 8.  Conclusion\n",
    "\n",
    "These technologies covered the whole 24 hours per day but they only logged limited aspects of the lynxes’ behaviour. The visual observations, on the other hand, produced detailed data on behaviour, but was much more limited in time. Hence a combination of these techniques is a powerful tool to see the activity pattern of the lynxes.\n"
   ]
  },
  {
   "cell_type": "markdown",
   "metadata": {},
   "source": [
    "*Please note that this notebook was made from my Master's thesis project at Linkoping University in partnership with Kolmarden Wildlife Park. This notebook is based on data manipulation and data visualization. To read the full thesis simply google : \"Effect of sensory enrichments on the behaviour of captive Northern lynx (Lynx lynx lynx) and assessment of automated behaviour monitoring technologies\".*"
   ]
  }
 ],
 "metadata": {
  "kernelspec": {
   "display_name": "R",
   "language": "R",
   "name": "ir"
  },
  "language_info": {
   "codemirror_mode": "r",
   "file_extension": ".r",
   "mimetype": "text/x-r-source",
   "name": "R",
   "pygments_lexer": "r",
   "version": "3.6.1"
  }
 },
 "nbformat": 4,
 "nbformat_minor": 4
}
